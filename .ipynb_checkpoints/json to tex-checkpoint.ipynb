{
 "cells": [
  {
   "cell_type": "code",
   "execution_count": 1,
   "metadata": {},
   "outputs": [],
   "source": [
    "import sys\n",
    "sys.path.append('src')"
   ]
  },
  {
   "cell_type": "code",
   "execution_count": 2,
   "metadata": {},
   "outputs": [],
   "source": [
    "import locale\n",
    "locale.setlocale(locale.LC_TIME, 'fr_FR')   ## set French as local language, useful for date display\n",
    "# locale.setlocale(locale.LC_TIME, 'fr_FR.UTF-8')  # non-windows computer? \n",
    "\n",
    "import pandas as pd\n",
    "\n",
    "from models.telegram import TelegramModel\n",
    "from models.messenger import MessengerModel\n",
    "from utils.formatting import process_for_latex\n",
    "from utils.timing import add_timing_to_df\n",
    "from utils.formatting import left_formating, right_formating, left_formating_with_bubbles, right_formating_with_bubbles"
   ]
  },
  {
   "cell_type": "code",
   "execution_count": 3,
   "metadata": {},
   "outputs": [],
   "source": [
    "telegram_model = TelegramModel()\n",
    "messenger_model = MessengerModel()"
   ]
  },
  {
   "cell_type": "code",
   "execution_count": 4,
   "metadata": {
    "ExecuteTime": {
     "end_time": "2020-11-23T09:48:05.510529Z",
     "start_time": "2020-11-23T09:48:05.474216Z"
    }
   },
   "outputs": [
    {
     "name": "stdout",
     "output_type": "stream",
     "text": [
      "<class 'pandas.core.frame.DataFrame'>\n",
      "RangeIndex: 13 entries, 0 to 12\n",
      "Data columns (total 5 columns):\n",
      " #   Column    Non-Null Count  Dtype \n",
      "---  ------    --------------  ----- \n",
      " 0   source    13 non-null     object\n",
      " 1   datetime  13 non-null     object\n",
      " 2   sender    13 non-null     object\n",
      " 3   message   13 non-null     object\n",
      " 4   path      13 non-null     object\n",
      "dtypes: object(5)\n",
      "memory usage: 648.0+ bytes\n"
     ]
    },
    {
     "data": {
      "text/html": [
       "<div>\n",
       "<style scoped>\n",
       "    .dataframe tbody tr th:only-of-type {\n",
       "        vertical-align: middle;\n",
       "    }\n",
       "\n",
       "    .dataframe tbody tr th {\n",
       "        vertical-align: top;\n",
       "    }\n",
       "\n",
       "    .dataframe thead th {\n",
       "        text-align: right;\n",
       "    }\n",
       "</style>\n",
       "<table border=\"1\" class=\"dataframe\">\n",
       "  <thead>\n",
       "    <tr style=\"text-align: right;\">\n",
       "      <th></th>\n",
       "      <th>source</th>\n",
       "      <th>datetime</th>\n",
       "      <th>sender</th>\n",
       "      <th>message</th>\n",
       "      <th>path</th>\n",
       "    </tr>\n",
       "  </thead>\n",
       "  <tbody>\n",
       "    <tr>\n",
       "      <th>0</th>\n",
       "      <td>Telegram</td>\n",
       "      <td>2020-06-16T18:01:09</td>\n",
       "      <td>B</td>\n",
       "      <td>La pandémie du covid-19 est une maladie nouvel...</td>\n",
       "      <td>[]</td>\n",
       "    </tr>\n",
       "    <tr>\n",
       "      <th>1</th>\n",
       "      <td>Telegram</td>\n",
       "      <td>2020-06-16T18:06:17</td>\n",
       "      <td>M</td>\n",
       "      <td>Lois mathématiques --</td>\n",
       "      <td>[]</td>\n",
       "    </tr>\n",
       "    <tr>\n",
       "      <th>2</th>\n",
       "      <td>Telegram</td>\n",
       "      <td>2020-06-17T09:19:55</td>\n",
       "      <td>M</td>\n",
       "      <td>J'ai lu le teasing d'intro, super bien posé, h...</td>\n",
       "      <td>[]</td>\n",
       "    </tr>\n",
       "    <tr>\n",
       "      <th>3</th>\n",
       "      <td>Telegram</td>\n",
       "      <td>2020-07-07T15:54:05</td>\n",
       "      <td>B</td>\n",
       "      <td>Du coup si on résume : \\ * 🚂 Départ J-0 à 20h5...</td>\n",
       "      <td>[]</td>\n",
       "    </tr>\n",
       "    <tr>\n",
       "      <th>4</th>\n",
       "      <td>Telegram</td>\n",
       "      <td>2020-07-18T00:16:11</td>\n",
       "      <td>B</td>\n",
       "      <td>j'ai meme fait le graphique de la médecin</td>\n",
       "      <td>photos/photo_1@18-07-2020_00-16-11.jpg</td>\n",
       "    </tr>\n",
       "  </tbody>\n",
       "</table>\n",
       "</div>"
      ],
      "text/plain": [
       "     source             datetime sender  \\\n",
       "0  Telegram  2020-06-16T18:01:09      B   \n",
       "1  Telegram  2020-06-16T18:06:17      M   \n",
       "2  Telegram  2020-06-17T09:19:55      M   \n",
       "3  Telegram  2020-07-07T15:54:05      B   \n",
       "4  Telegram  2020-07-18T00:16:11      B   \n",
       "\n",
       "                                             message  \\\n",
       "0  La pandémie du covid-19 est une maladie nouvel...   \n",
       "1                              Lois mathématiques --   \n",
       "2  J'ai lu le teasing d'intro, super bien posé, h...   \n",
       "3  Du coup si on résume : \\ * 🚂 Départ J-0 à 20h5...   \n",
       "4          j'ai meme fait le graphique de la médecin   \n",
       "\n",
       "                                     path  \n",
       "0                                      []  \n",
       "1                                      []  \n",
       "2                                      []  \n",
       "3                                      []  \n",
       "4  photos/photo_1@18-07-2020_00-16-11.jpg  "
      ]
     },
     "execution_count": 4,
     "metadata": {},
     "output_type": "execute_result"
    }
   ],
   "source": [
    "telegram_data_path = 'data/telegram/ChatExport_2020-11-15/result.json'\n",
    "concatenated_table_telegram = telegram_model.parse_from_json(telegram_data_path)\n",
    "concatenated_table_telegram.info()\n",
    "concatenated_table_telegram.head()"
   ]
  },
  {
   "cell_type": "code",
   "execution_count": 5,
   "metadata": {},
   "outputs": [
    {
     "name": "stdout",
     "output_type": "stream",
     "text": [
      "Error in a sender name\n",
      "Alexandre Hannebelle\n"
     ]
    },
    {
     "data": {
      "text/plain": [
       "(1, 5)"
      ]
     },
     "execution_count": 5,
     "metadata": {},
     "output_type": "execute_result"
    }
   ],
   "source": [
    "messenger_data_path = 'data/messenger/message_1.json'\n",
    "concatenated_table_messenger = messenger_model.parse_from_json(messenger_data_path)\n",
    "concatenated_table_messenger.shape"
   ]
  },
  {
   "cell_type": "code",
   "execution_count": 6,
   "metadata": {},
   "outputs": [
    {
     "data": {
      "text/plain": [
       "(14, 5)"
      ]
     },
     "execution_count": 6,
     "metadata": {},
     "output_type": "execute_result"
    }
   ],
   "source": [
    "# Merge two dataframes\n",
    "concatenated_table_messenger = concatenated_table_messenger.append(concatenated_table_telegram)\n",
    "concatenated_table_messenger.shape"
   ]
  },
  {
   "cell_type": "code",
   "execution_count": 11,
   "metadata": {},
   "outputs": [],
   "source": [
    "concatenated_table_messenger = add_timing_to_df(concatenated_table_messenger)"
   ]
  },
  {
   "cell_type": "code",
   "execution_count": 139,
   "metadata": {},
   "outputs": [],
   "source": [
    "# Other option to print the tex with one message per bubble.\n",
    "\n",
    "df = concatenated_table\n",
    "separate_messages = True\n",
    "\n",
    "for date, df_t in df.groupby('date'):\n",
    "    date_str = df_t['dateStr'].unique()[0]\n",
    "    title = '\\\\section*{' + date_str + '}'\n",
    "    \n",
    "    if separate_messages:\n",
    "        discussion = '\\n'.join(df_t.groupby('message').apply(format_msg))\n",
    "    else:\n",
    "        discussion = '\\n'.join(df_t.groupby('senderGroup').apply(format_msg))\n",
    "    text = f'{title}\\n{discussion}'\n",
    "    \n",
    "    with open(f'./sections/{date}.tex', 'w', encoding='utf-8') as ft:\n",
    "        ft.write(text)\n",
    "\n"
   ]
  },
  {
   "cell_type": "code",
   "execution_count": 117,
   "metadata": {
    "ExecuteTime": {
     "end_time": "2020-11-23T09:48:10.146359Z",
     "start_time": "2020-11-23T09:48:06.062877Z"
    }
   },
   "outputs": [],
   "source": [
    "# Loop over dates, generate yyyy-mm-dd.tex section files, one per day\n",
    "# -------------------------------------------------------------------\n",
    "# Maud version <3\n",
    "\n",
    "df = concatenated_table\n",
    "\n",
    "\n",
    "separate_messages = True\n",
    "\n",
    "for date, df_t in df.groupby('date'):\n",
    "    date_str = df_t['dateStr'].unique()[0]\n",
    "    title = '\\\\section*{' + date_str + '}'\n",
    "    \n",
    "    if separate_messages:\n",
    "        discussion = ' '.join(df_t.groupby('senderGroup').apply(format_msg))\n",
    "    else:\n",
    "        discussion = '\\n\\n'.join(df_t.groupby('senderGroup').apply(format_msg))\n",
    "    \n",
    "    text = f'{title}\\n\\n{discussion}'\n",
    "    \n",
    "    with open(f'./sections/{date}.tex', 'w', encoding='utf-8') as ft:\n",
    "        ft.write(text)"
   ]
  }
 ],
 "metadata": {
  "kernelspec": {
   "display_name": "Python 3",
   "language": "python",
   "name": "python3"
  },
  "language_info": {
   "codemirror_mode": {
    "name": "ipython",
    "version": 3
   },
   "file_extension": ".py",
   "mimetype": "text/x-python",
   "name": "python",
   "nbconvert_exporter": "python",
   "pygments_lexer": "ipython3",
   "version": "3.7.6"
  }
 },
 "nbformat": 4,
 "nbformat_minor": 4
}
