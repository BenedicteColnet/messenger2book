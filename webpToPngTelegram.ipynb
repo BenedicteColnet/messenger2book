{
 "cells": [
  {
   "cell_type": "markdown",
   "metadata": {},
   "source": [
    "From webp to jpg (only for stickers folder that is deprecated and I don't understand why)"
   ]
  },
  {
   "cell_type": "code",
   "execution_count": 17,
   "metadata": {},
   "outputs": [],
   "source": [
    "from PIL import Image\n",
    "import os"
   ]
  },
  {
   "cell_type": "code",
   "execution_count": 19,
   "metadata": {},
   "outputs": [],
   "source": [
    "FOLDER = \"/Users/benedictecolnet/Documents/projet-messages/messenger2book/data/telegram/ChatExport_2020-12-06/stickers\"\n",
    "stickers = os.listdir(FOLDER)\n",
    "for im in stickers:\n",
    "    if im.endswith('.webp'):\n",
    "        im_to_save = Image.open(FOLDER+\"/\"+im).convert(\"RGB\")\n",
    "        im_to_save.save(FOLDER+\"/\"+im+\"_thumb.jpg\")"
   ]
  },
  {
   "cell_type": "code",
   "execution_count": 24,
   "metadata": {},
   "outputs": [],
   "source": [
    "FOLDERBIS = \"/Users/benedictecolnet/Documents/projet-messages/messenger2book/data/telegram/ChatExport_2020-12-06/video_files/\"\n",
    "im_to_save = Image.open(FOLDERBIS+\"giphy (3).mp4_thumb.jpg\").convert(\"RGB\")\n",
    "im_to_save.save(FOLDERBIS+\"giphy (3).mp4_thumb.jpg\")"
   ]
  },
  {
   "cell_type": "code",
   "execution_count": null,
   "metadata": {},
   "outputs": [],
   "source": []
  }
 ],
 "metadata": {
  "kernelspec": {
   "display_name": "Python 3",
   "language": "python",
   "name": "python3"
  },
  "language_info": {
   "codemirror_mode": {
    "name": "ipython",
    "version": 3
   },
   "file_extension": ".py",
   "mimetype": "text/x-python",
   "name": "python",
   "nbconvert_exporter": "python",
   "pygments_lexer": "ipython3",
   "version": "3.7.4"
  }
 },
 "nbformat": 4,
 "nbformat_minor": 2
}
