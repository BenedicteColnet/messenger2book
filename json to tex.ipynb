{
 "cells": [
  {
   "cell_type": "code",
   "execution_count": 1,
   "metadata": {},
   "outputs": [],
   "source": [
    "import sys\n",
    "sys.path.append('src')"
   ]
  },
  {
   "cell_type": "code",
   "execution_count": 2,
   "metadata": {},
   "outputs": [],
   "source": [
    "import locale\n",
    "locale.setlocale(locale.LC_TIME, 'fr_FR')   ## set French as local language, useful for date display\n",
    "# locale.setlocale(locale.LC_TIME, 'fr_FR.UTF-8')  # non-windows computer? \n",
    "\n",
    "import pandas as pd\n",
    "\n",
    "from models.telegram import TelegramModel\n",
    "from models.messenger import MessengerModel\n",
    "from utils.formatting import process_for_latex\n",
    "from utils.timing import add_timing_to_df\n",
    "from utils.formatting import left_formating, right_formating, left_formating_with_bubbles\n",
    "from utils.formatting import right_formating_with_bubbles, format_msg"
   ]
  },
  {
   "cell_type": "code",
   "execution_count": 3,
   "metadata": {},
   "outputs": [],
   "source": [
    "telegram_model = TelegramModel()\n",
    "messenger_model = MessengerModel()"
   ]
  },
  {
   "cell_type": "code",
   "execution_count": 4,
   "metadata": {
    "ExecuteTime": {
     "end_time": "2020-11-23T09:48:05.510529Z",
     "start_time": "2020-11-23T09:48:05.474216Z"
    }
   },
   "outputs": [
    {
     "data": {
      "text/html": [
       "<div>\n",
       "<style scoped>\n",
       "    .dataframe tbody tr th:only-of-type {\n",
       "        vertical-align: middle;\n",
       "    }\n",
       "\n",
       "    .dataframe tbody tr th {\n",
       "        vertical-align: top;\n",
       "    }\n",
       "\n",
       "    .dataframe thead th {\n",
       "        text-align: right;\n",
       "    }\n",
       "</style>\n",
       "<table border=\"1\" class=\"dataframe\">\n",
       "  <thead>\n",
       "    <tr style=\"text-align: right;\">\n",
       "      <th></th>\n",
       "      <th>source</th>\n",
       "      <th>datetime</th>\n",
       "      <th>sender</th>\n",
       "      <th>message</th>\n",
       "      <th>path</th>\n",
       "    </tr>\n",
       "  </thead>\n",
       "  <tbody>\n",
       "  </tbody>\n",
       "</table>\n",
       "</div>"
      ],
      "text/plain": [
       "Empty DataFrame\n",
       "Columns: [source, datetime, sender, message, path]\n",
       "Index: []"
      ]
     },
     "execution_count": 4,
     "metadata": {},
     "output_type": "execute_result"
    }
   ],
   "source": [
    "telegram_data_path = 'data/telegram/ChatExport_2020-11-15/result.json'\n",
    "concatenated_table_telegram = telegram_model.parse_from_json(telegram_data_path)\n",
    "#concatenated_table_telegram.info()\n",
    "concatenated_table_telegram"
   ]
  },
  {
   "cell_type": "code",
   "execution_count": 5,
   "metadata": {},
   "outputs": [
    {
     "data": {
      "text/html": [
       "<div>\n",
       "<style scoped>\n",
       "    .dataframe tbody tr th:only-of-type {\n",
       "        vertical-align: middle;\n",
       "    }\n",
       "\n",
       "    .dataframe tbody tr th {\n",
       "        vertical-align: top;\n",
       "    }\n",
       "\n",
       "    .dataframe thead th {\n",
       "        text-align: right;\n",
       "    }\n",
       "</style>\n",
       "<table border=\"1\" class=\"dataframe\">\n",
       "  <thead>\n",
       "    <tr style=\"text-align: right;\">\n",
       "      <th></th>\n",
       "      <th>source</th>\n",
       "      <th>datetime</th>\n",
       "      <th>sender</th>\n",
       "      <th>message</th>\n",
       "      <th>path</th>\n",
       "      <th>reactions</th>\n",
       "    </tr>\n",
       "  </thead>\n",
       "  <tbody>\n",
       "    <tr>\n",
       "      <th>0</th>\n",
       "      <td>Messenger</td>\n",
       "      <td>2020-11-13 20:26:38.528000</td>\n",
       "      <td>B</td>\n",
       "      <td>La publie de microbiologie est finale !! On va...</td>\n",
       "      <td>[]</td>\n",
       "      <td>[]</td>\n",
       "    </tr>\n",
       "    <tr>\n",
       "      <th>1</th>\n",
       "      <td>Messenger</td>\n",
       "      <td>2020-11-13 20:26:21.514000</td>\n",
       "      <td>B</td>\n",
       "      <td>ET</td>\n",
       "      <td>[]</td>\n",
       "      <td>[]</td>\n",
       "    </tr>\n",
       "    <tr>\n",
       "      <th>2</th>\n",
       "      <td>Messenger</td>\n",
       "      <td>2020-11-13 20:26:20.306000</td>\n",
       "      <td>B</td>\n",
       "      <td>Mais tout est prêt.</td>\n",
       "      <td>[]</td>\n",
       "      <td>[]</td>\n",
       "    </tr>\n",
       "    <tr>\n",
       "      <th>3</th>\n",
       "      <td>Messenger</td>\n",
       "      <td>2020-11-13 20:26:17.204000</td>\n",
       "      <td>B</td>\n",
       "      <td>Juste savoir quelle affiliation</td>\n",
       "      <td>[]</td>\n",
       "      <td>[]</td>\n",
       "    </tr>\n",
       "    <tr>\n",
       "      <th>4</th>\n",
       "      <td>Messenger</td>\n",
       "      <td>2020-11-13 20:26:08.027000</td>\n",
       "      <td>B</td>\n",
       "      <td>\\emoji[ios]{1F624}</td>\n",
       "      <td>[]</td>\n",
       "      <td>[]</td>\n",
       "    </tr>\n",
       "    <tr>\n",
       "      <th>...</th>\n",
       "      <td>...</td>\n",
       "      <td>...</td>\n",
       "      <td>...</td>\n",
       "      <td>...</td>\n",
       "      <td>...</td>\n",
       "      <td>...</td>\n",
       "    </tr>\n",
       "    <tr>\n",
       "      <th>94</th>\n",
       "      <td>Messenger</td>\n",
       "      <td>2020-11-11 19:42:23.409000</td>\n",
       "      <td>M</td>\n",
       "      <td>\\emoji[ios]{1F549}️</td>\n",
       "      <td>[]</td>\n",
       "      <td>[]</td>\n",
       "    </tr>\n",
       "    <tr>\n",
       "      <th>95</th>\n",
       "      <td>Messenger</td>\n",
       "      <td>2020-11-11 19:42:16.649000</td>\n",
       "      <td>M</td>\n",
       "      <td>\\#cheesy</td>\n",
       "      <td>[]</td>\n",
       "      <td>[]</td>\n",
       "    </tr>\n",
       "    <tr>\n",
       "      <th>96</th>\n",
       "      <td>Messenger</td>\n",
       "      <td>2020-11-11 19:42:11.891000</td>\n",
       "      <td>M</td>\n",
       "      <td>\\emoji[ios]{1F499}</td>\n",
       "      <td>[]</td>\n",
       "      <td>[]</td>\n",
       "    </tr>\n",
       "    <tr>\n",
       "      <th>97</th>\n",
       "      <td>Messenger</td>\n",
       "      <td>2020-11-11 19:42:03.333000</td>\n",
       "      <td>M</td>\n",
       "      <td>U2...</td>\n",
       "      <td>[]</td>\n",
       "      <td>[]</td>\n",
       "    </tr>\n",
       "    <tr>\n",
       "      <th>98</th>\n",
       "      <td>Messenger</td>\n",
       "      <td>2020-11-11 19:40:51.357000</td>\n",
       "      <td>B</td>\n",
       "      <td>Anywé. Courage....</td>\n",
       "      <td>[]</td>\n",
       "      <td>[]</td>\n",
       "    </tr>\n",
       "  </tbody>\n",
       "</table>\n",
       "<p>99 rows × 6 columns</p>\n",
       "</div>"
      ],
      "text/plain": [
       "       source                    datetime sender  \\\n",
       "0   Messenger  2020-11-13 20:26:38.528000      B   \n",
       "1   Messenger  2020-11-13 20:26:21.514000      B   \n",
       "2   Messenger  2020-11-13 20:26:20.306000      B   \n",
       "3   Messenger  2020-11-13 20:26:17.204000      B   \n",
       "4   Messenger  2020-11-13 20:26:08.027000      B   \n",
       "..        ...                         ...    ...   \n",
       "94  Messenger  2020-11-11 19:42:23.409000      M   \n",
       "95  Messenger  2020-11-11 19:42:16.649000      M   \n",
       "96  Messenger  2020-11-11 19:42:11.891000      M   \n",
       "97  Messenger  2020-11-11 19:42:03.333000      M   \n",
       "98  Messenger  2020-11-11 19:40:51.357000      B   \n",
       "\n",
       "                                              message path reactions  \n",
       "0   La publie de microbiologie est finale !! On va...   []        []  \n",
       "1                                                  ET   []        []  \n",
       "2                                 Mais tout est prêt.   []        []  \n",
       "3                     Juste savoir quelle affiliation   []        []  \n",
       "4                                  \\emoji[ios]{1F624}   []        []  \n",
       "..                                                ...  ...       ...  \n",
       "94                                \\emoji[ios]{1F549}️   []        []  \n",
       "95                                           \\#cheesy   []        []  \n",
       "96                                 \\emoji[ios]{1F499}   []        []  \n",
       "97                                              U2...   []        []  \n",
       "98                                 Anywé. Courage....   []        []  \n",
       "\n",
       "[99 rows x 6 columns]"
      ]
     },
     "execution_count": 5,
     "metadata": {},
     "output_type": "execute_result"
    }
   ],
   "source": [
    "messenger_data_path = 'data/messenger/message_1.json'\n",
    "concatenated_table_messenger = messenger_model.parse_from_json(messenger_data_path)\n",
    "concatenated_table_messenger"
   ]
  },
  {
   "cell_type": "code",
   "execution_count": 6,
   "metadata": {},
   "outputs": [
    {
     "data": {
      "text/plain": [
       "(99, 6)"
      ]
     },
     "execution_count": 6,
     "metadata": {},
     "output_type": "execute_result"
    }
   ],
   "source": [
    "# Merge two dataframes\n",
    "concatenated_table = concatenated_table_messenger.append(concatenated_table_telegram)\n",
    "concatenated_table.shape"
   ]
  },
  {
   "cell_type": "code",
   "execution_count": 7,
   "metadata": {},
   "outputs": [],
   "source": [
    "concatenated_table= add_timing_to_df(concatenated_table)"
   ]
  },
  {
   "cell_type": "code",
   "execution_count": 8,
   "metadata": {},
   "outputs": [],
   "source": [
    "# Loop over dates, generate yyyy-mm-dd.tex section files, one per day\n",
    "# -------------------------------------------------------------------\n",
    "\n",
    "import numpy as np\n",
    "\n",
    "df = concatenated_table\n",
    "\n",
    "\n",
    "# mark empty bubbles\n",
    "df['empty_message'] = np.where(df.message == \"\", True, False)\n",
    "\n",
    "# prepare intro and ccl for the latex bubbles\n",
    "df['introtex']  = np.where(df.right, \"\\\\begin{rightbubbles}\", \"\\\\begin{leftbubbles}\")\n",
    "df['conclutex'] = np.where(df.right, \"\\\\end{rightbubbles}\", \"\\\\end{leftbubbles}\")\n",
    "\n",
    "# add hour\n",
    "#df['datetex'] = \"\\\\flushright{\\\\textcolor{mygray}{{\\\\footnotesize \"+df.timeStr+\"}}}\"\n",
    "df['datetex'] = \"\\\\hspace{0.5cm}\\\\hfill{\\\\textcolor{mygray}{{\\\\footnotesize \"+df.timeStr+\"}}}\"\n",
    "\n",
    "\n",
    "# deal with & in latex\n",
    "df['message'] = df['message'].replace('&', '\\\\&')\n",
    "\n",
    "# concatenate\n",
    "df['message'] = df[['introtex', 'message', 'datetex', 'conclutex']].apply(lambda x: ' '.join(x), axis=1)\n",
    "\n",
    "# delete empty bubbles\n",
    "df['message'] = np.where(df.empty_message, \"\", df.message)\n",
    "\n",
    "# deal with photo\n",
    "# for now only one photo by one photo ? df['path'].apply(len).value_counts()\n",
    "df['is_photo'] =  np.where(df.path, True, False)\n",
    "df['tex_for_photo'] = np.where((df.is_photo) & (df.right), '\\\\begin{figure}[H]'+ ' \\n ' +'\\\\begin{flushright}' + ' \\n ' + '\\\\includegraphics[width=0.5\\\\textwidth]{'+df.path.str.get(0)+'}'+' \\n '+'\\\\end{flushright}'+'\\n'+'\\\\end{figure}', \"\")\n",
    "df['tex_for_photo'] = np.where((df.is_photo) & (df.right == False), '\\\\begin{figure}[H]'+ ' \\n ' +'\\\\begin{flushleft}' + ' \\n ' + '\\\\includegraphics[width=0.5\\\\textwidth]{'+df.path.str.get(0)+'}'+' \\n '+'\\\\end{flushleft}'+'\\n'+'\\\\end{figure}', df.tex_for_photo)\n",
    "\n",
    "# join photo and message, with photo first\n",
    "df['message'] = df[['tex_for_photo', 'message']].apply(lambda x: ' '.join(x), axis=1)\n",
    "\n",
    "for date, df_t in df.groupby('date'):\n",
    "    date_str = df_t['dateStr'].unique()[0]\n",
    "    title = '\\\\section*{' + date_str + '\\markboth{\\MakeLowercase{'+ date_str +'}}{}}'\n",
    "    discussion = '\\n'.join(df_t.message)\n",
    "    text = f'{title}\\n{discussion}'\n",
    "    \n",
    "    with open(f'./output/sections/{date}.tex', 'w', encoding='utf-8') as ft:\n",
    "        ft.write(text)\n"
   ]
  },
  {
   "cell_type": "code",
   "execution_count": 9,
   "metadata": {},
   "outputs": [
    {
     "data": {
      "text/plain": [
       "0      \n",
       "1      \n",
       "2      \n",
       "3      \n",
       "4      \n",
       "     ..\n",
       "94     \n",
       "95     \n",
       "96     \n",
       "97     \n",
       "98     \n",
       "Name: tex_for_photo, Length: 99, dtype: object"
      ]
     },
     "execution_count": 9,
     "metadata": {},
     "output_type": "execute_result"
    }
   ],
   "source": [
    "# SolutionS to get the first item of the list for path\n",
    "\n",
    "#df['tex_for_photo'] = np.where((df.is_photo) & (df.right), df.path.str.get(0), \"toto\")\n",
    "#test = df['path'].apply(lambda x: \"toto\" if len(x) == 0 else x[0])\n",
    "#test\n",
    "df.tex_for_photo"
   ]
  },
  {
   "cell_type": "code",
   "execution_count": 10,
   "metadata": {},
   "outputs": [],
   "source": [
    "# # Loop over dates, generate yyyy-mm-dd.tex section files, one per day\n",
    "# # -------------------------------------------------------------------\n",
    "# df = concatenated_table\n",
    "# separate_messages = True\n",
    "\n",
    "# for date, df_t in df.groupby('date'):\n",
    "#     date_str = df_t['dateStr'].unique()[0]\n",
    "#     title = '\\\\section*{' + date_str + '\\markboth{\\MakeLowercase{'+ date_str +'}}{}}'\n",
    "#     if separate_messages:\n",
    "#         discussion = '\\n'.join(df_t.groupby('message').apply(format_msg))\n",
    "#     else:\n",
    "#         discussion = '\\n'.join(df_t.groupby('senderGroup').apply(format_msg))\n",
    "#     text = f'{title}\\n{discussion}'\n",
    "    \n",
    "#     with open(f'./output/sections/{date}.tex', 'w', encoding='utf-8') as ft:\n",
    "#         ft.write(text)"
   ]
  },
  {
   "cell_type": "code",
   "execution_count": 11,
   "metadata": {},
   "outputs": [
    {
     "name": "stdout",
     "output_type": "stream",
     "text": [
      "True\n",
      "<re.Match object; span=(47, 96), match='125222477_1727067340807430_6855689147600839821_n_>\n"
     ]
    },
    {
     "data": {
      "text/plain": [
       "'125222477_1727067340807430_6855689147600839821_n_1727067340807430.png'"
      ]
     },
     "execution_count": 11,
     "metadata": {},
     "output_type": "execute_result"
    }
   ],
   "source": [
    "import re\n",
    "test = \"https://interncache-atn.fbcdn.net/v/t1.15752-9/125222477_1727067340807430_6855689147600839821_n_1727067334140764.png?ccb=2&_nc_sid=73a6a0&efg=eyJ1cmxnZW4iOiJwaHBfdXJsZ2VuX2NsaWVudC9pbW9nZW46RFlJTWVkaWFVdGlscyJ9&_nc_ad=z-m&_nc_cid=0&_nc_ht=interncache-atn&oh=54adebd7bb72b88abfa5976648859ea3&oe=5FD625B5\"\n",
    "res = re.search(\"([0-9]*)_([0-9]*)_([0-9]*)_(.).\", test)\n",
    "if 'png' in test:\n",
    "    print(True)\n",
    "print(res)\n",
    "file_name = f\"{res.group(1)}_{res.group(2)}_{res.group(3)}_{res.group(4)}_{res.group(2)}.png\"\n",
    "file_name"
   ]
  },
  {
   "cell_type": "code",
   "execution_count": 12,
   "metadata": {},
   "outputs": [
    {
     "data": {
      "text/plain": [
       "'jedhfy\\\\&djef'"
      ]
     },
     "execution_count": 12,
     "metadata": {},
     "output_type": "execute_result"
    }
   ],
   "source": [
    "test = \"jedhfy&djef\"\n",
    "line = test.replace('&', '\\\\&')\n",
    "line"
   ]
  },
  {
   "cell_type": "code",
   "execution_count": null,
   "metadata": {},
   "outputs": [],
   "source": []
  }
 ],
 "metadata": {
  "kernelspec": {
   "display_name": "Python 3",
   "language": "python",
   "name": "python3"
  },
  "language_info": {
   "codemirror_mode": {
    "name": "ipython",
    "version": 3
   },
   "file_extension": ".py",
   "mimetype": "text/x-python",
   "name": "python",
   "nbconvert_exporter": "python",
   "pygments_lexer": "ipython3",
   "version": "3.7.4"
  }
 },
 "nbformat": 4,
 "nbformat_minor": 4
}
