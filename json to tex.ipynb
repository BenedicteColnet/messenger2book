{
 "cells": [
  {
   "cell_type": "code",
   "execution_count": 17,
   "metadata": {},
   "outputs": [],
   "source": [
    "import sys\n",
    "sys.path.append('src')"
   ]
  },
  {
   "cell_type": "code",
   "execution_count": 18,
   "metadata": {},
   "outputs": [],
   "source": [
    "import locale\n",
    "locale.setlocale(locale.LC_TIME, 'fr_FR')   ## set French as local language, useful for date display\n",
    "# locale.setlocale(locale.LC_TIME, 'fr_FR.UTF-8')  # non-windows computer? \n",
    "\n",
    "import pandas as pd\n",
    "\n",
    "from models.telegram import TelegramModel\n",
    "from models.messenger import MessengerModel\n",
    "from utils.formatting import process_for_latex\n",
    "from utils.timing import add_timing_to_df\n",
    "from utils.formatting import left_formating, right_formating, left_formating_with_bubbles\n",
    "from utils.formatting import right_formating_with_bubbles, format_msg"
   ]
  },
  {
   "cell_type": "code",
   "execution_count": 19,
   "metadata": {},
   "outputs": [],
   "source": [
    "telegram_model = TelegramModel()\n",
    "messenger_model = MessengerModel()"
   ]
  },
  {
   "cell_type": "code",
   "execution_count": null,
   "metadata": {
    "ExecuteTime": {
     "end_time": "2020-11-23T09:48:05.510529Z",
     "start_time": "2020-11-23T09:48:05.474216Z"
    }
   },
   "outputs": [
    {
     "name": "stdout",
     "output_type": "stream",
     "text": [
      "../data/telegram/ChatExport_2020-12-06/video_files/video_1@18-07-2020_15-57-31.mp4_thumb.jpg\n",
      "../data/telegram/ChatExport_2020-12-06/video_files/video_5@19-07-2020_20-33-41.mp4_thumb.jpg\n",
      "../data/telegram/ChatExport_2020-12-06/stickers/sticker.webp_thumb.jpg\n",
      "../data/telegram/ChatExport_2020-12-06/video_files/mp4.mp4_thumb.jpg\n",
      "../data/telegram/ChatExport_2020-12-06/video_files/giphy.mp4_thumb.jpg\n",
      "../data/telegram/ChatExport_2020-12-06/stickers/sticker (1).webp_thumb.jpg\n",
      "../data/telegram/ChatExport_2020-12-06/stickers/sticker (2).webp_thumb.jpg\n",
      "../data/telegram/ChatExport_2020-12-06/stickers/sticker (3).webp_thumb.jpg\n",
      "../data/telegram/ChatExport_2020-12-06/stickers/sticker (4).webp_thumb.jpg\n",
      "../data/telegram/ChatExport_2020-12-06/stickers/sticker (5).webp_thumb.jpg\n",
      "../data/telegram/ChatExport_2020-12-06/stickers/sticker (6).webp_thumb.jpg\n",
      "../data/telegram/ChatExport_2020-12-06/stickers/sticker (7).webp_thumb.jpg\n",
      "../data/telegram/ChatExport_2020-12-06/stickers/sticker (8).webp_thumb.jpg\n",
      "../data/telegram/ChatExport_2020-12-06/video_files/video_6@20-07-2020_12-54-43.mp4_thumb.jpg\n",
      "../data/telegram/ChatExport_2020-12-06/video_files/video_7@20-07-2020_12-58-15.mp4_thumb.jpg\n",
      "../data/telegram/ChatExport_2020-12-06/video_files/video_8@20-07-2020_12-58-46.mp4_thumb.jpg\n",
      "../data/telegram/ChatExport_2020-12-06/video_files/mp4 (1).mp4_thumb.jpg\n",
      "../data/telegram/ChatExport_2020-12-06/video_files/mp4 (2).mp4_thumb.jpg\n",
      "../data/telegram/ChatExport_2020-12-06/video_files/mp4 (3).mp4_thumb.jpg\n",
      "../data/telegram/ChatExport_2020-12-06/video_files/giphy (1).mp4_thumb.jpg\n",
      "../data/telegram/ChatExport_2020-12-06/video_files/mp4 (4).mp4_thumb.jpg\n",
      "../data/telegram/ChatExport_2020-12-06/video_files/mp4 (5).mp4_thumb.jpg\n",
      "../data/telegram/ChatExport_2020-12-06/video_files/giphy (2).mp4_thumb.jpg\n",
      "../data/telegram/ChatExport_2020-12-06/video_files/giphy (3).mp4_thumb.jpg\n"
     ]
    }
   ],
   "source": [
    "telegram_data_path = 'data/telegram/ChatExport_2020-12-06/result.json'\n",
    "concatenated_table_telegram = telegram_model.parse_from_json(telegram_data_path)\n",
    "#concatenated_table_telegram.info()\n",
    "#concatenated_table_telegram"
   ]
  },
  {
   "cell_type": "code",
   "execution_count": null,
   "metadata": {},
   "outputs": [],
   "source": [
    "messenger_data_path = 'data/messenger/message_1.json'\n",
    "concatenated_table_messenger = messenger_model.parse_from_json(messenger_data_path)\n",
    "messenger_data_path = 'data/messenger/message_2.json'\n",
    "concatenated_table_messenger_bis = messenger_model.parse_from_json(messenger_data_path)\n",
    "concatenated_table_messenger = concatenated_table_messenger.append(concatenated_table_messenger_bis)\n",
    "concatenated_table_messenger"
   ]
  },
  {
   "cell_type": "code",
   "execution_count": null,
   "metadata": {},
   "outputs": [],
   "source": [
    "# Merge two dataframes\n",
    "concatenated_table = concatenated_table_messenger.append(concatenated_table_telegram)\n",
    "concatenated_table.shape"
   ]
  },
  {
   "cell_type": "code",
   "execution_count": null,
   "metadata": {},
   "outputs": [],
   "source": [
    "concatenated_table= add_timing_to_df(concatenated_table)\n",
    "concatenated_table"
   ]
  },
  {
   "cell_type": "code",
   "execution_count": null,
   "metadata": {},
   "outputs": [],
   "source": [
    "# Loop over dates, generate yyyy-mm-dd.tex section files, one per day\n",
    "# -------------------------------------------------------------------\n",
    "\n",
    "import numpy as np\n",
    "\n",
    "df = concatenated_table\n",
    "\n",
    "\n",
    "# mark empty bubbles\n",
    "df['empty_message'] = np.where(df.message == \"\", True, False)\n",
    "\n",
    "# prepare intro and ccl for the latex bubbles\n",
    "df['introtex']  = np.where(df.right, \"\\\\begin{rightbubbles}\", \"\\\\begin{leftbubbles}\")\n",
    "df['conclutex'] = np.where(df.right, \"\\\\end{rightbubbles}\", \"\\\\end{leftbubbles}\")\n",
    "\n",
    "# add hour\n",
    "#df['datetex'] = \"\\\\flushright{\\\\textcolor{mygray}{{\\\\footnotesize \"+df.timeStr+\"}}}\"\n",
    "df['datetex'] = \"\\\\hspace{0.5cm}\\\\hfill{\\\\textcolor{mygray}{{\\\\footnotesize \"+df.timeStr+\"}}}\"\n",
    "\n",
    "\n",
    "# deal with & in latex\n",
    "df['message'] = df['message'].replace('&', '\\\\&')\n",
    "\n",
    "# concatenate\n",
    "df['message'] = df[['introtex', 'message', 'datetex', 'conclutex']].apply(lambda x: ' '.join(x), axis=1)\n",
    "\n",
    "# delete empty bubbles\n",
    "df['message'] = np.where(df.empty_message, \"\", df.message)\n",
    "\n",
    "# deal with photo\n",
    "# for now only one photo by one photo ? df['path'].apply(len).value_counts()\n",
    "df['is_photo'] =  np.where(df.path, True, False)\n",
    "df['tex_for_photo'] = np.where((df.is_photo) & (df.right), '\\\\begin{figure}[H]'+ ' \\n ' +'\\\\begin{flushright}' + ' \\n ' + '\\\\includegraphics[width=0.4\\\\textwidth]{'+df.path.str.get(0)+'}'+' \\n '+'\\\\end{flushright}'+'\\n'+'\\\\end{figure}', \"\")\n",
    "df['tex_for_photo'] = np.where((df.is_photo) & (df.right == False), '\\\\begin{figure}[H]'+ ' \\n ' +'\\\\begin{flushleft}' + ' \\n ' + '\\\\includegraphics[width=0.4\\\\textwidth]{'+df.path.str.get(0)+'}'+' \\n '+'\\\\end{flushleft}'+'\\n'+'\\\\end{figure}', df.tex_for_photo)\n",
    "\n",
    "# join photo and message, with photo first\n",
    "#df['message'] = df[['tex_for_photo', 'message']].apply(lambda x: ' '.join(x), axis=1)\n",
    "\n",
    "# deal with gifs\n",
    "df['is_gif'] =  np.where(df.gifs, True, False)\n",
    "df['tex_for_gif'] = np.where((df.is_gif) & (df.right), '\\\\begin{figure}[H]'+ ' \\n ' +'\\\\begin{flushright}' + ' \\n ' + '\\\\includegraphics[width=0.3\\\\textwidth]{'+df.gifs.str.get(0)+'}'+' \\n '+'\\\\end{flushright}'+'\\n'+'\\\\end{figure}', \"\")\n",
    "df['tex_for_gif'] = np.where((df.is_gif) & (df.right == False), '\\\\begin{figure}[H]'+ ' \\n ' +'\\\\begin{flushleft}' + ' \\n ' + '\\\\includegraphics[width=0.3\\\\textwidth]{'+df.gifs.str.get(0)+'}'+' \\n '+'\\\\end{flushleft}'+'\\n'+'\\\\end{figure}', df.tex_for_gif)\n",
    "\n",
    "\n",
    "# deal with gifs\n",
    "df['is_videos'] =  np.where(df.videos, True, False)\n",
    "df['tex_for_videos'] = np.where((df.is_videos) & (df.right), '\\\\begin{figure}[H]'+ ' \\n ' +'\\\\begin{flushright}' + ' \\n ' + '\\\\includegraphics[width=0.3\\\\textwidth]{'+df.videos.str.get(0)+'}'+' \\n '+'\\\\caption{Video} \\n \\\\end{flushright}'+'\\n'+'\\\\end{figure}', \"\")\n",
    "df['tex_for_videos'] = np.where((df.is_videos) & (df.right == False), '\\\\begin{figure}[H]'+ ' \\n ' +'\\\\begin{flushleft}' + ' \\n ' + '\\\\includegraphics[width=0.3\\\\textwidth]{'+df.videos.str.get(0)+'}'+' \\n '+'\\\\caption{Video} \\n \\\\end{flushleft}'+'\\n'+'\\\\end{figure}', df.tex_for_videos)\n",
    "\n",
    "# deal with reactions\n",
    "df['is_reactions'] =  np.where(df.reactions, True, False)\n",
    "df['tex_for_reactions'] = np.where((df.is_reactions) & (df.right), '\\\\begin{flushleft}' +df.reactions.str.get(0)+ '\\\\end{flushleft}', \"\")\n",
    "df['tex_for_reactions'] = np.where((df.is_reactions) & (df.right == False), '\\\\begin{flushright} ' +df.reactions.str.get(0)+ '\\\\end{flushright}', df.tex_for_reactions)\n",
    "\n",
    "\n",
    "# join photo and message, with photo first\n",
    "df['message'] = df[['tex_for_gif', 'tex_for_photo', 'message','tex_for_reactions']].apply(lambda x: ' '.join(x), axis=1)\n",
    "\n",
    "\n",
    "for date, df_t in df.groupby('date'):\n",
    "    date_str = df_t['dateStr'].unique()[0]\n",
    "    title = '\\\\section*{' + date_str + '\\markboth{\\MakeLowercase{'+ date_str +'}}{}}'\n",
    "    discussion = '\\n'.join(df_t.message)\n",
    "    text = f'{title}\\n{discussion}'\n",
    "    \n",
    "    with open(f'./output/sections/{date}.tex', 'w', encoding='utf-8') as ft:\n",
    "        ft.write(text)\n"
   ]
  },
  {
   "cell_type": "code",
   "execution_count": null,
   "metadata": {},
   "outputs": [],
   "source": [
    "# SolutionS to get the first item of the list for path\n",
    "\n",
    "#df['tex_for_photo'] = np.where((df.is_photo) & (df.right), df.path.str.get(0), \"toto\")\n",
    "#test = df['path'].apply(lambda x: \"toto\" if len(x) == 0 else x[0])\n",
    "#test\n",
    "df.tex_for_photo"
   ]
  },
  {
   "cell_type": "code",
   "execution_count": null,
   "metadata": {},
   "outputs": [],
   "source": [
    "# # Loop over dates, generate yyyy-mm-dd.tex section files, one per day\n",
    "# # -------------------------------------------------------------------\n",
    "# df = concatenated_table\n",
    "# separate_messages = True\n",
    "\n",
    "# for date, df_t in df.groupby('date'):\n",
    "#     date_str = df_t['dateStr'].unique()[0]\n",
    "#     title = '\\\\section*{' + date_str + '\\markboth{\\MakeLowercase{'+ date_str +'}}{}}'\n",
    "#     if separate_messages:\n",
    "#         discussion = '\\n'.join(df_t.groupby('message').apply(format_msg))\n",
    "#     else:\n",
    "#         discussion = '\\n'.join(df_t.groupby('senderGroup').apply(format_msg))\n",
    "#     text = f'{title}\\n{discussion}'\n",
    "    \n",
    "#     with open(f'./output/sections/{date}.tex', 'w', encoding='utf-8') as ft:\n",
    "#         ft.write(text)"
   ]
  },
  {
   "cell_type": "code",
   "execution_count": null,
   "metadata": {},
   "outputs": [],
   "source": [
    "import re\n",
    "test = \"https://interncache-atn.fbcdn.net/v/t1.15752-9/125222477_1727067340807430_6855689147600839821_n_1727067334140764.png?ccb=2&_nc_sid=73a6a0&efg=eyJ1cmxnZW4iOiJwaHBfdXJsZ2VuX2NsaWVudC9pbW9nZW46RFlJTWVkaWFVdGlscyJ9&_nc_ad=z-m&_nc_cid=0&_nc_ht=interncache-atn&oh=54adebd7bb72b88abfa5976648859ea3&oe=5FD625B5\"\n",
    "res = re.search(\"([0-9]*)_([0-9]*)_([0-9]*)_(.).\", test)\n",
    "if 'png' in test:\n",
    "    print(True)\n",
    "print(res)\n",
    "file_name = f\"{res.group(1)}_{res.group(2)}_{res.group(3)}_{res.group(4)}_{res.group(2)}.png\"\n",
    "file_name"
   ]
  },
  {
   "cell_type": "code",
   "execution_count": null,
   "metadata": {},
   "outputs": [],
   "source": [
    "concatenated_table"
   ]
  },
  {
   "cell_type": "code",
   "execution_count": null,
   "metadata": {},
   "outputs": [],
   "source": []
  },
  {
   "cell_type": "code",
   "execution_count": null,
   "metadata": {},
   "outputs": [],
   "source": []
  }
 ],
 "metadata": {
  "kernelspec": {
   "display_name": "Python 3",
   "language": "python",
   "name": "python3"
  },
  "language_info": {
   "codemirror_mode": {
    "name": "ipython",
    "version": 3
   },
   "file_extension": ".py",
   "mimetype": "text/x-python",
   "name": "python",
   "nbconvert_exporter": "python",
   "pygments_lexer": "ipython3",
   "version": "3.9.0"
  }
 },
 "nbformat": 4,
 "nbformat_minor": 4
}
